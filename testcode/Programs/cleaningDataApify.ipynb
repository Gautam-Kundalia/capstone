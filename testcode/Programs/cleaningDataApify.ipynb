{
 "cells": [
  {
   "cell_type": "code",
   "execution_count": 2,
   "metadata": {},
   "outputs": [],
   "source": [
    "import pandas as pd\n",
    "import numpy as np"
   ]
  },
  {
   "cell_type": "code",
   "execution_count": 3,
   "metadata": {},
   "outputs": [
    {
     "data": {
      "text/html": [
       "<div>\n",
       "<style scoped>\n",
       "    .dataframe tbody tr th:only-of-type {\n",
       "        vertical-align: middle;\n",
       "    }\n",
       "\n",
       "    .dataframe tbody tr th {\n",
       "        vertical-align: top;\n",
       "    }\n",
       "\n",
       "    .dataframe thead th {\n",
       "        text-align: right;\n",
       "    }\n",
       "</style>\n",
       "<table border=\"1\" class=\"dataframe\">\n",
       "  <thead>\n",
       "    <tr style=\"text-align: right;\">\n",
       "      <th></th>\n",
       "      <th>crawl_depth</th>\n",
       "      <th>crawl_httpStatusCode</th>\n",
       "      <th>crawl_loadedTime</th>\n",
       "      <th>crawl_loadedUrl</th>\n",
       "      <th>crawl_referrerUrl</th>\n",
       "      <th>markdown</th>\n",
       "      <th>metadata_author</th>\n",
       "      <th>metadata_canonicalUrl</th>\n",
       "      <th>metadata_description</th>\n",
       "      <th>metadata_headers_cache-control</th>\n",
       "      <th>...</th>\n",
       "      <th>metadata_headers_x-firefox-spdy</th>\n",
       "      <th>metadata_headers_x-newfold-cache-level</th>\n",
       "      <th>metadata_jsonLd</th>\n",
       "      <th>metadata_keywords</th>\n",
       "      <th>metadata_languageCode</th>\n",
       "      <th>metadata_openGraph</th>\n",
       "      <th>metadata_title</th>\n",
       "      <th>screenshotUrl</th>\n",
       "      <th>text</th>\n",
       "      <th>url</th>\n",
       "    </tr>\n",
       "  </thead>\n",
       "  <tbody>\n",
       "    <tr>\n",
       "      <th>0</th>\n",
       "      <td>0</td>\n",
       "      <td>200</td>\n",
       "      <td>2025-01-28T14:13:47.678Z</td>\n",
       "      <td>https://www.behavioralcrossroads.com/alcohol-m...</td>\n",
       "      <td>https://www.behavioralcrossroads.com/alcohol-m...</td>\n",
       "      <td># Join us in Alcohol Misuse Prevention - Behav...</td>\n",
       "      <td>Crossroads</td>\n",
       "      <td>https://www.behavioralcrossroads.com/alcohol-m...</td>\n",
       "      <td>NaN</td>\n",
       "      <td>max-age=7200</td>\n",
       "      <td>...</td>\n",
       "      <td>h2</td>\n",
       "      <td>2</td>\n",
       "      <td>[{'@context': 'https://schema.org', '@graph': ...</td>\n",
       "      <td>NaN</td>\n",
       "      <td>en-CA</td>\n",
       "      <td>[{'property': 'og:locale', 'content': 'en_US'}...</td>\n",
       "      <td>Join us in Alcohol Misuse Prevention - Behavio...</td>\n",
       "      <td>NaN</td>\n",
       "      <td>Join us in Alcohol Misuse Prevention - Behavio...</td>\n",
       "      <td>https://www.behavioralcrossroads.com/alcohol-m...</td>\n",
       "    </tr>\n",
       "  </tbody>\n",
       "</table>\n",
       "<p>1 rows × 28 columns</p>\n",
       "</div>"
      ],
      "text/plain": [
       "   crawl_depth  crawl_httpStatusCode          crawl_loadedTime  \\\n",
       "0            0                   200  2025-01-28T14:13:47.678Z   \n",
       "\n",
       "                                     crawl_loadedUrl  \\\n",
       "0  https://www.behavioralcrossroads.com/alcohol-m...   \n",
       "\n",
       "                                   crawl_referrerUrl  \\\n",
       "0  https://www.behavioralcrossroads.com/alcohol-m...   \n",
       "\n",
       "                                            markdown metadata_author  \\\n",
       "0  # Join us in Alcohol Misuse Prevention - Behav...      Crossroads   \n",
       "\n",
       "                               metadata_canonicalUrl  metadata_description  \\\n",
       "0  https://www.behavioralcrossroads.com/alcohol-m...                   NaN   \n",
       "\n",
       "  metadata_headers_cache-control  ... metadata_headers_x-firefox-spdy  \\\n",
       "0                   max-age=7200  ...                              h2   \n",
       "\n",
       "  metadata_headers_x-newfold-cache-level  \\\n",
       "0                                      2   \n",
       "\n",
       "                                     metadata_jsonLd metadata_keywords  \\\n",
       "0  [{'@context': 'https://schema.org', '@graph': ...               NaN   \n",
       "\n",
       "  metadata_languageCode                                 metadata_openGraph  \\\n",
       "0                 en-CA  [{'property': 'og:locale', 'content': 'en_US'}...   \n",
       "\n",
       "                                      metadata_title screenshotUrl  \\\n",
       "0  Join us in Alcohol Misuse Prevention - Behavio...           NaN   \n",
       "\n",
       "                                                text  \\\n",
       "0  Join us in Alcohol Misuse Prevention - Behavio...   \n",
       "\n",
       "                                                 url  \n",
       "0  https://www.behavioralcrossroads.com/alcohol-m...  \n",
       "\n",
       "[1 rows x 28 columns]"
      ]
     },
     "execution_count": 3,
     "metadata": {},
     "output_type": "execute_result"
    }
   ],
   "source": [
    "df = pd.read_csv('output.csv')\n",
    "df.head()"
   ]
  },
  {
   "cell_type": "code",
   "execution_count": 4,
   "metadata": {},
   "outputs": [
    {
     "data": {
      "text/html": [
       "<div>\n",
       "<style scoped>\n",
       "    .dataframe tbody tr th:only-of-type {\n",
       "        vertical-align: middle;\n",
       "    }\n",
       "\n",
       "    .dataframe tbody tr th {\n",
       "        vertical-align: top;\n",
       "    }\n",
       "\n",
       "    .dataframe thead th {\n",
       "        text-align: right;\n",
       "    }\n",
       "</style>\n",
       "<table border=\"1\" class=\"dataframe\">\n",
       "  <thead>\n",
       "    <tr style=\"text-align: right;\">\n",
       "      <th></th>\n",
       "      <th>crawl_depth</th>\n",
       "      <th>crawl_httpStatusCode</th>\n",
       "      <th>crawl_loadedTime</th>\n",
       "      <th>crawl_loadedUrl</th>\n",
       "      <th>crawl_referrerUrl</th>\n",
       "      <th>markdown</th>\n",
       "      <th>metadata_author</th>\n",
       "      <th>metadata_canonicalUrl</th>\n",
       "      <th>metadata_description</th>\n",
       "      <th>metadata_headers_cache-control</th>\n",
       "      <th>...</th>\n",
       "      <th>metadata_headers_x-firefox-spdy</th>\n",
       "      <th>metadata_headers_x-newfold-cache-level</th>\n",
       "      <th>metadata_jsonLd</th>\n",
       "      <th>metadata_keywords</th>\n",
       "      <th>metadata_languageCode</th>\n",
       "      <th>metadata_openGraph</th>\n",
       "      <th>metadata_title</th>\n",
       "      <th>screenshotUrl</th>\n",
       "      <th>text</th>\n",
       "      <th>url</th>\n",
       "    </tr>\n",
       "  </thead>\n",
       "  <tbody>\n",
       "    <tr>\n",
       "      <th>0</th>\n",
       "      <td>False</td>\n",
       "      <td>False</td>\n",
       "      <td>False</td>\n",
       "      <td>False</td>\n",
       "      <td>False</td>\n",
       "      <td>False</td>\n",
       "      <td>False</td>\n",
       "      <td>False</td>\n",
       "      <td>True</td>\n",
       "      <td>False</td>\n",
       "      <td>...</td>\n",
       "      <td>False</td>\n",
       "      <td>False</td>\n",
       "      <td>False</td>\n",
       "      <td>True</td>\n",
       "      <td>False</td>\n",
       "      <td>False</td>\n",
       "      <td>False</td>\n",
       "      <td>True</td>\n",
       "      <td>False</td>\n",
       "      <td>False</td>\n",
       "    </tr>\n",
       "  </tbody>\n",
       "</table>\n",
       "<p>1 rows × 28 columns</p>\n",
       "</div>"
      ],
      "text/plain": [
       "   crawl_depth  crawl_httpStatusCode  crawl_loadedTime  crawl_loadedUrl  \\\n",
       "0        False                 False             False            False   \n",
       "\n",
       "   crawl_referrerUrl  markdown  metadata_author  metadata_canonicalUrl  \\\n",
       "0              False     False            False                  False   \n",
       "\n",
       "   metadata_description  metadata_headers_cache-control  ...  \\\n",
       "0                  True                           False  ...   \n",
       "\n",
       "   metadata_headers_x-firefox-spdy  metadata_headers_x-newfold-cache-level  \\\n",
       "0                            False                                   False   \n",
       "\n",
       "   metadata_jsonLd  metadata_keywords  metadata_languageCode  \\\n",
       "0            False               True                  False   \n",
       "\n",
       "   metadata_openGraph  metadata_title  screenshotUrl   text    url  \n",
       "0               False           False           True  False  False  \n",
       "\n",
       "[1 rows x 28 columns]"
      ]
     },
     "execution_count": 4,
     "metadata": {},
     "output_type": "execute_result"
    }
   ],
   "source": [
    "df.isna()"
   ]
  },
  {
   "cell_type": "code",
   "execution_count": 5,
   "metadata": {},
   "outputs": [
    {
     "name": "stdout",
     "output_type": "stream",
     "text": [
      "<class 'pandas.core.frame.DataFrame'>\n",
      "RangeIndex: 1 entries, 0 to 0\n",
      "Data columns (total 28 columns):\n",
      " #   Column                                    Non-Null Count  Dtype  \n",
      "---  ------                                    --------------  -----  \n",
      " 0   crawl_depth                               1 non-null      int64  \n",
      " 1   crawl_httpStatusCode                      1 non-null      int64  \n",
      " 2   crawl_loadedTime                          1 non-null      object \n",
      " 3   crawl_loadedUrl                           1 non-null      object \n",
      " 4   crawl_referrerUrl                         1 non-null      object \n",
      " 5   markdown                                  1 non-null      object \n",
      " 6   metadata_author                           1 non-null      object \n",
      " 7   metadata_canonicalUrl                     1 non-null      object \n",
      " 8   metadata_description                      0 non-null      float64\n",
      " 9   metadata_headers_cache-control            1 non-null      object \n",
      " 10  metadata_headers_content-encoding         1 non-null      object \n",
      " 11  metadata_headers_content-security-policy  1 non-null      object \n",
      " 12  metadata_headers_content-type             1 non-null      object \n",
      " 13  metadata_headers_date                     1 non-null      object \n",
      " 14  metadata_headers_expires                  1 non-null      object \n",
      " 15  metadata_headers_link                     1 non-null      object \n",
      " 16  metadata_headers_server                   1 non-null      object \n",
      " 17  metadata_headers_vary                     1 non-null      object \n",
      " 18  metadata_headers_x-firefox-spdy           1 non-null      object \n",
      " 19  metadata_headers_x-newfold-cache-level    1 non-null      int64  \n",
      " 20  metadata_jsonLd                           1 non-null      object \n",
      " 21  metadata_keywords                         0 non-null      float64\n",
      " 22  metadata_languageCode                     1 non-null      object \n",
      " 23  metadata_openGraph                        1 non-null      object \n",
      " 24  metadata_title                            1 non-null      object \n",
      " 25  screenshotUrl                             0 non-null      float64\n",
      " 26  text                                      1 non-null      object \n",
      " 27  url                                       1 non-null      object \n",
      "dtypes: float64(3), int64(3), object(22)\n",
      "memory usage: 352.0+ bytes\n"
     ]
    }
   ],
   "source": [
    "df.info()"
   ]
  },
  {
   "cell_type": "code",
   "execution_count": 9,
   "metadata": {},
   "outputs": [
    {
     "data": {
      "text/plain": [
       "Index(['crawl_depth', 'crawl_httpStatusCode', 'crawl_loadedTime',\n",
       "       'crawl_loadedUrl', 'crawl_referrerUrl', 'markdown', 'metadata_author',\n",
       "       'metadata_canonicalUrl', 'metadata_description',\n",
       "       'metadata_headers_cache-control', 'metadata_headers_content-encoding',\n",
       "       'metadata_headers_content-security-policy',\n",
       "       'metadata_headers_content-type', 'metadata_headers_date',\n",
       "       'metadata_headers_expires', 'metadata_headers_link',\n",
       "       'metadata_headers_server', 'metadata_headers_vary',\n",
       "       'metadata_headers_x-firefox-spdy',\n",
       "       'metadata_headers_x-newfold-cache-level', 'metadata_jsonLd',\n",
       "       'metadata_keywords', 'metadata_languageCode', 'metadata_openGraph',\n",
       "       'metadata_title', 'screenshotUrl', 'text', 'url'],\n",
       "      dtype='object')"
      ]
     },
     "execution_count": 9,
     "metadata": {},
     "output_type": "execute_result"
    }
   ],
   "source": [
    "df.columns"
   ]
  },
  {
   "cell_type": "code",
   "execution_count": 11,
   "metadata": {},
   "outputs": [
    {
     "data": {
      "text/plain": [
       "0    Join us in Alcohol Misuse Prevention - Behavio...\n",
       "Name: metadata_title, dtype: object"
      ]
     },
     "execution_count": 11,
     "metadata": {},
     "output_type": "execute_result"
    }
   ],
   "source": [
    "df.metadata_title"
   ]
  },
  {
   "cell_type": "code",
   "execution_count": null,
   "metadata": {},
   "outputs": [],
   "source": []
  }
 ],
 "metadata": {
  "kernelspec": {
   "display_name": "venv",
   "language": "python",
   "name": "python3"
  },
  "language_info": {
   "codemirror_mode": {
    "name": "ipython",
    "version": 3
   },
   "file_extension": ".py",
   "mimetype": "text/x-python",
   "name": "python",
   "nbconvert_exporter": "python",
   "pygments_lexer": "ipython3",
   "version": "3.10.0"
  }
 },
 "nbformat": 4,
 "nbformat_minor": 2
}
